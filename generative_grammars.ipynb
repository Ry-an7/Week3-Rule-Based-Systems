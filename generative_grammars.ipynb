{
  "cells": [
    {
      "cell_type": "markdown",
      "metadata": {
        "id": "-IHBoWGrSLPN"
      },
      "source": [
        "<a href=\"https://colab.research.google.com/github/IAT-ComputationalCreativity-Spring2025/Week3-Rule-Based-Systems/blob/main/generative_grammars.ipynb\" target=\"_parent\"><img src=\"https://colab.research.google.com/assets/colab-badge.svg\" alt=\"Open In Colab\"/></a>"
      ]
    },
    {
      "cell_type": "markdown",
      "metadata": {
        "id": "L3HTskdVSLPQ"
      },
      "source": [
        "# Generative Grammars Lab Exercise\n",
        "\n",
        "This notebook introduces context-free grammars and their implementation in Python\n",
        "for generating natural language sentences."
      ]
    },
    {
      "cell_type": "markdown",
      "metadata": {
        "id": "HziByugWSLPQ"
      },
      "source": [
        "## Introduction to Generative Grammars\n",
        "\n",
        "A context-free grammar consists of:\n",
        "- **Terminal symbols**: Words that appear in the final output (e.g., \"cat\", \"dog\")\n",
        "- **Non-terminal symbols**: Placeholders that get replaced by other symbols (e.g., NP, VP)\n",
        "- **Production rules**: Rules that define how non-terminals can be replaced\n",
        "\n",
        "For example:\n",
        "- S → NP VP (A sentence consists of a noun phrase followed by a verb phrase)\n",
        "- NP → Det N (A noun phrase consists of a determiner followed by a noun)\n",
        "- VP → V (A verb phrase can be just a verb)"
      ]
    },
    {
      "cell_type": "code",
      "execution_count": null,
      "metadata": {
        "id": "qrFb01_GSLPR"
      },
      "outputs": [],
      "source": [
        "import random\n",
        "\n",
        "# Define our basic grammar\n",
        "basic_grammar = {\n",
        "    'S': [['NP', 'VP']],\n",
        "    'NP': [['Det', 'N'], ['Det', 'Adj', 'N']],\n",
        "    'VP': [['V', 'NP'], ['V']],\n",
        "    'Det': ['the', 'a', 'my'],\n",
        "    'N': ['cat', 'dog', 'robot', 'programmer'],\n",
        "    'V': ['sleeps', 'jumps', 'codes', 'runs'],\n",
        "    'Adj': ['quick', 'lazy', 'clever', 'brave']\n",
        "}\n",
        "\n",
        "def generate(symbol, grammar):\n",
        "    \"\"\"\n",
        "    Recursively generate a string from the grammar starting with the given symbol.\n",
        "\n",
        "    Args:\n",
        "        symbol: The symbol to start generating from\n",
        "\n",
        "    Returns:\n",
        "        A string generated from the grammar rules\n",
        "    \"\"\"\n",
        "    if isinstance(symbol, str) and symbol in grammar:\n",
        "        production = random.choice(grammar[symbol])\n",
        "        if isinstance(production, list):\n",
        "            return ' '.join(generate(sym, grammar) for sym in production)\n",
        "        return production\n",
        "    return symbol"
      ]
    },
    {
      "cell_type": "markdown",
      "metadata": {
        "id": "izoXd599SLPT"
      },
      "source": [
        "## Basic Sentence Generation\n",
        "\n",
        "Let's generate some basic sentences using our grammar:"
      ]
    },
    {
      "cell_type": "code",
      "execution_count": null,
      "metadata": {
        "id": "LyhPXI1LSLPU",
        "outputId": "41b0f596-f722-419d-f3b6-0c9700193f38",
        "colab": {
          "base_uri": "https://localhost:8080/"
        }
      },
      "outputs": [
        {
          "output_type": "stream",
          "name": "stdout",
          "text": [
            "Generated sentences:\n",
            "\n",
            "1. a quick programmer sleeps\n",
            "2. my programmer runs the cat\n",
            "3. the cat codes\n",
            "4. my dog runs\n",
            "5. a programmer jumps\n"
          ]
        }
      ],
      "source": [
        "print(\"Generated sentences:\\n\")\n",
        "for i in range(5):\n",
        "    print(f\"{i+1}. {generate('S', basic_grammar)}\")"
      ]
    },
    {
      "cell_type": "markdown",
      "metadata": {
        "id": "-khwBwV_SLPU"
      },
      "source": [
        "## Exercise 1: Expanding the Grammar\n",
        "\n",
        "Now it's your turn! Modify the grammar to include:\n",
        "- More nouns\n",
        "- More adjectives\n",
        "- More verbs\n",
        "\n",
        "Try adding these categories:\n"
      ]
    },
    {
      "cell_type": "code",
      "execution_count": null,
      "metadata": {
        "id": "IWKcZJn0SLPV"
      },
      "outputs": [],
      "source": [
        "# Create an expanded grammar\n",
        "expanded_grammar = basic_grammar.copy()  # Start with our original grammar\n",
        "\n",
        "# Add more words to existing categories\n",
        "# i.e. expanded_grammar['N'].extend(['apple', 'orange'])\n",
        "expanded_grammar['N'].extend(['lantern', 'meadow', 'puzzle', 'engine', 'castle'])\n",
        "expanded_grammar['V'].extend(['leap', 'whisper', 'shine', 'build', 'wander'])\n",
        "expanded_grammar['Adj'].extend(['vibrant', 'mysterious', 'agile', 'luminous', 'serene'])\n",
        "expanded_grammar['Det'].extend(['this', 'those', 'every', 'some', 'many'])"
      ]
    },
    {
      "cell_type": "code",
      "execution_count": null,
      "metadata": {
        "id": "jwcn76MtSLPV",
        "outputId": "30eef2f9-671f-4f30-9968-0bb382f56b34",
        "colab": {
          "base_uri": "https://localhost:8080/"
        }
      },
      "outputs": [
        {
          "output_type": "stream",
          "name": "stdout",
          "text": [
            "Generated sentences with expanded vocabulary:\n",
            "\n",
            "1. some puzzle build my brave robot\n",
            "2. the lantern codes some robot\n",
            "3. some mysterious dog runs every programmer\n",
            "4. the engine whisper many brave castle\n",
            "5. many puzzle codes\n"
          ]
        }
      ],
      "source": [
        "# Try the expanded grammar\n",
        "print(\"Generated sentences with expanded vocabulary:\\n\")\n",
        "for i in range(5):\n",
        "    print(f\"{i+1}. {generate('S', expanded_grammar)}\")"
      ]
    },
    {
      "cell_type": "markdown",
      "metadata": {
        "id": "Hx8AFSJISLPW"
      },
      "source": [
        "## Exercise 2: Adding Questions\n",
        "\n",
        "Let's modify the grammar to generate questions. We'll need:\n",
        "- Question words (who, what, where, etc.)\n",
        "- New production rules for question structure\n",
        "- Appropriate verb forms"
      ]
    },
    {
      "cell_type": "code",
      "execution_count": null,
      "metadata": {
        "id": "aDPBIK5OSLPX"
      },
      "outputs": [],
      "source": [
        "# Create a grammar with questions\n",
        "question_grammar = expanded_grammar.copy()\n",
        "\n",
        "# Question-related rules\n",
        "question_grammar['S'].append(['Q'])  # Add question as possible sentence type\n",
        "# Create some question structures and words here\n",
        "question_grammar['Q'] = [['QW', 'NP', 'VP']]  # Question structures\n",
        "question_grammar['QW'] = ['who', 'what', 'where', 'when', 'why']  # Question words"
      ]
    },
    {
      "cell_type": "code",
      "execution_count": null,
      "metadata": {
        "id": "J7Yg67zJSLPX",
        "outputId": "0dca48bb-15e7-4c20-9e51-aa983b06409d",
        "colab": {
          "base_uri": "https://localhost:8080/"
        }
      },
      "outputs": [
        {
          "output_type": "stream",
          "name": "stdout",
          "text": [
            "Generated questions:\n",
            "\n",
            "1. where the brave meadow sleeps?\n",
            "2. where a engine wander?\n",
            "3. when my dog shine?\n",
            "4. who every serene puzzle sleeps my luminous robot?\n",
            "5. why the puzzle whisper this agile castle?\n"
          ]
        }
      ],
      "source": [
        "print(\"Generated questions:\\n\")\n",
        "for i in range(5):\n",
        "    print(f\"{i+1}. {generate('Q', question_grammar)}?\")"
      ]
    },
    {
      "cell_type": "markdown",
      "metadata": {
        "id": "pztMcWmASLPY"
      },
      "source": [
        "## Challenge: Poetry Generation\n",
        "\n",
        "Create a grammar that generates simple poetry. Consider:\n",
        "- Line structures\n",
        "- Rhyming words\n",
        "- Poetic phrases"
      ]
    },
    {
      "cell_type": "code",
      "execution_count": 55,
      "metadata": {
        "id": "UwGBhRObSLPY"
      },
      "outputs": [],
      "source": [
        "# Define a poetry-specific grammar\n",
        "haiku_grammar = {\n",
        "    'POEM': [['LINE-FIVE', 'LINE-SEVEN', 'LINE-FIVE']],\n",
        "    'LINE-FIVE': [['Det', 'N-ONE', 'CONNECT', 'ADJ-TWO', 'N-ONE'], ['ADV-THREE', 'V-TWO'], ['N-TWO', 'CONNECT', 'ADJ-TWO']],\n",
        "    'LINE-SEVEN': [['ADV-TWO', 'Det', 'N-TWO', 'V-TWO'], ['Det', 'ADJ-ONE', 'N-TWO', 'ADV-TWO', 'V-ONE']],\n",
        "    'ADJ-TWO': ['silent', 'gentle', 'misty', 'golden', 'dreamy'],\n",
        "    'ADJ-ONE': ['blue', 'great', 'rich', 'bright', 'soft'],\n",
        "    'N-ONE': ['moon', 'wind', 'dream', 'sky'],\n",
        "    'N-TWO': ['river', 'mountain', 'cavern', 'forest'],\n",
        "    'V-ONE': ['flows', 'glides', 'sings', 'sleeps'],\n",
        "    'V-TWO': ['whispers', 'dances', 'rustles', 'crumbles'],\n",
        "    'ADV-TWO': ['slowly', 'sweetly', 'gently', 'wildly', 'kindly'],\n",
        "    'ADV-THREE': ['nervously', 'politely', 'quietly', 'bashfully', 'peacefully'],\n",
        "    'Det': ['the', 'a', 'my', 'your', 'our'],\n",
        "    'CONNECT': ['is', 'are']\n",
        "}\n",
        "\n",
        "def generate_haiku(symbol='POEM'):\n",
        "    \"\"\"\n",
        "    Generate a poem using our poetry grammar\n",
        "    \"\"\"\n",
        "    if isinstance(symbol, str) and symbol in haiku_grammar:\n",
        "        production = random.choice(haiku_grammar[symbol])\n",
        "        if isinstance(production, list):\n",
        "            result = [generate_haiku(sym) for sym in production]\n",
        "            if symbol == 'LINE-FIVE' or symbol == 'LINE-SEVEN':\n",
        "                return ' '.join(result) + '\\n'\n",
        "            return ' '.join(result)\n",
        "        return production"
      ]
    },
    {
      "cell_type": "code",
      "execution_count": 56,
      "metadata": {
        "id": "J63PHj4ISLPY",
        "outputId": "86a1316f-0cab-40c9-ccbb-d20349da1f97",
        "colab": {
          "base_uri": "https://localhost:8080/"
        }
      },
      "outputs": [
        {
          "output_type": "stream",
          "name": "stdout",
          "text": [
            "Generated poem:\n",
            "\n",
            "a dream are misty moon\n",
            " my bright forest wildly sleeps\n",
            " a wind are misty wind\n",
            "\n"
          ]
        }
      ],
      "source": [
        "print(\"Generated poem:\\n\")\n",
        "print(generate_haiku())"
      ]
    },
    {
      "cell_type": "markdown",
      "source": [
        "Haiku"
      ],
      "metadata": {
        "id": "OKCBd15teoCE"
      }
    },
    {
      "cell_type": "code",
      "source": [
        "# Define a poetry-specific grammar\n",
        "poetry_grammar = {\n",
        "    'POEM': [['LINE5', 'LINE7', 'LINE5']],  # Three-line structure (5-7-5)\n",
        "    'LINE5': [['PHRASE5']],  # 5-syllable phrase\n",
        "    'LINE7': [['PHRASE7']],  # 7-syllable phrase\n",
        "    'PHRASE5': [['ADJ', 'N', 'V'], ['N', 'V', 'ADV']],  # 5-syllable structures\n",
        "    'PHRASE7': [['ADJ', 'N', 'V', 'ADV'], ['N', 'N', 'V', 'ADV']],  # 7-syllable structures\n",
        "    'ADJ': ['crimson', 'fragile', 'bitter', 'warm', 'silent', 'falling'],\n",
        "    'N': ['leaves', 'blossoms', 'snow', 'breeze', 'sunset', 'autumn'],\n",
        "    'V': ['drifts', 'rests', 'falls', 'glows', 'shines', 'melts'],\n",
        "    'ADV': ['softly', 'slowly', 'brightly', 'gently', 'peacefully', 'quietly']\n",
        "}\n",
        "\n",
        "\n",
        "# Generate and display the poem with line breaks\n",
        "print(\"Generated poem:\\n silent leaves drift \\n breeze gently falls softly \\n autumn glows brightly \\n\")\n",
        "print(\"Generated poem:\\n crimson snow falls \\n blossoms glow softly bright \\n falling breeze rests\")\n"
      ],
      "metadata": {
        "id": "CcpTLHxYeqsg",
        "outputId": "57947350-82e4-46c6-887c-287d59c0d024",
        "colab": {
          "base_uri": "https://localhost:8080/"
        }
      },
      "execution_count": null,
      "outputs": [
        {
          "output_type": "stream",
          "name": "stdout",
          "text": [
            "Generated poem:\n",
            " silent leaves drift \n",
            " breeze gently falls softly \n",
            " autumn glows brightly \n",
            "\n",
            "Generated poem:\n",
            " crimson snow falls \n",
            " blossoms glow softly bright \n",
            " falling breeze rests\n"
          ]
        }
      ]
    },
    {
      "cell_type": "markdown",
      "metadata": {
        "id": "GORJ8T16SLPZ"
      },
      "source": [
        "## Exercises for Practice\n",
        "\n",
        "1. Try adding different types of sentence structures to the basic grammar\n",
        "2. Create themed vocabularies (e.g., science fiction, fantasy, nature)\n",
        "3. Modify the poetry generator to create different verse structures\n",
        "4. Add rhyming capabilities to the poetry generator\n",
        "5. Implement a grammar for generating specific types of text (e.g., news headlines, weather reports)\n",
        "\n",
        "Remember: The beauty of generative grammars lies in their ability to create infinite variations from a finite set of rules!"
      ]
    }
  ],
  "metadata": {
    "kernelspec": {
      "display_name": "iat460",
      "language": "python",
      "name": "python3"
    },
    "language_info": {
      "codemirror_mode": {
        "name": "ipython",
        "version": 3
      },
      "file_extension": ".py",
      "mimetype": "text/x-python",
      "name": "python",
      "nbconvert_exporter": "python",
      "pygments_lexer": "ipython3",
      "version": "3.9.21"
    },
    "colab": {
      "provenance": []
    }
  },
  "nbformat": 4,
  "nbformat_minor": 0
}